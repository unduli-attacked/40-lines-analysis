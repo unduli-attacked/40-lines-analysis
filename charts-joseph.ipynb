{
 "cells": [
  {
   "cell_type": "code",
   "execution_count": 2,
   "metadata": {},
   "outputs": [
    {
     "data": {
      "text/plain": [
       "DataTransformerRegistry.enable('default')"
      ]
     },
     "execution_count": 2,
     "metadata": {},
     "output_type": "execute_result"
    }
   ],
   "source": [
    "import pandas as pd\n",
    "import os\n",
    "import seaborn\n",
    "from datetime import datetime\n",
    "import time\n",
    "import math\n",
    "import matplotlib.pyplot as plt\n",
    "from matplotlib.ticker import PercentFormatter\n",
    "import altair as alt\n",
    "import numpy as np\n",
    "import gc\n",
    "\n",
    "alt.data_transformers.disable_max_rows() # allow datasets larger than 100k rows"
   ]
  },
  {
   "cell_type": "code",
   "execution_count": 3,
   "metadata": {},
   "outputs": [],
   "source": [
    "# define font sizes\n",
    "fs_title = 28\n",
    "fs_axis = 24\n",
    "fs_tick = 20\n",
    "\n",
    "# define chart sizes\n",
    "c_width = 800\n",
    "c_height = 800\n",
    "\n",
    "# define color schemes\n",
    "seq_scheme = \"plasma\"\n",
    "a_div_scheme = \"purpleorange\"\n",
    "m_div_scheme = \"PuOr\"\n",
    "sm_cat_scheme = \"category10\"\n",
    "lg_cat_scheme = \"category20\"\n",
    "solid_color = \"#0f0888\""
   ]
  },
  {
   "cell_type": "code",
   "execution_count": 4,
   "metadata": {},
   "outputs": [],
   "source": [
    "pb_only = True # SET TO TRUE TO USE ONLY PERSONAL BEST RECORDS\n",
    "\n",
    "record_df = pd.DataFrame()\n",
    "if not pb_only:\n",
    "    # full record dataset\n",
    "    record_df = pd.read_csv(\"out/all_records_pt_1.csv\", index_col=[0])\n",
    "    record_df = pd.concat([record_df, pd.read_csv(\"out/all_records_pt_2.csv\", index_col=[0])], ignore_index=True)\n",
    "else:\n",
    "    # pb records only\n",
    "    record_df = pd.read_csv(\"out/all_pbs.csv\", index_col=[0])\n",
    "    record_df = record_df.reset_index(drop=True)\n",
    "\n",
    "# full user dataset\n",
    "user_df = pd.read_csv(\"out/all_user_info.csv\", index_col=[0])\n",
    "user_df = user_df.reset_index(drop=True)"
   ]
  },
  {
   "cell_type": "code",
   "execution_count": 5,
   "metadata": {},
   "outputs": [],
   "source": [
    "# construct more attributes\n",
    "record_df[\"kps\"] = record_df[\"inputs\"] / (record_df[\"final_time\"] / 1000) # keys per second\n",
    "record_df[\"kpp\"] = record_df[\"inputs\"] / record_df[\"pieces_placed\"] # keys per piece\n",
    "record_df[\"percent_perf\"] = (record_df[\"finesse_perf\"] / record_df[\"pieces_placed\"]) # percent of pieces placed with perfect finesse\n",
    "record_df['time'] = (record_df['final_time'] // 1000) # final time rounded down to the second"
   ]
  },
  {
   "cell_type": "code",
   "execution_count": 6,
   "metadata": {},
   "outputs": [],
   "source": [
    "record_df = record_df.dropna(subset=\"percent_perf\")\n",
    "# record_df['percent_perf'] = record_df['percent_perf'].apply(math.floor)"
   ]
  },
  {
   "cell_type": "code",
   "execution_count": 7,
   "metadata": {},
   "outputs": [],
   "source": [
    "# drop the three records with over 5k finesse faults\n",
    "crazy_outliers = record_df.loc[record_df[\"finesse_faults\"] > 5000].index\n",
    "\n",
    "for crazy_outlier in crazy_outliers:\n",
    "    record_df = record_df.drop(crazy_outlier)"
   ]
  },
  {
   "cell_type": "code",
   "execution_count": 8,
   "metadata": {},
   "outputs": [],
   "source": [
    "small_record_df = record_df[['time', 'percent_perf', 'pps', 'kps', 'kpp', 'quads', 'doubles']]"
   ]
  },
  {
   "cell_type": "code",
   "execution_count": 9,
   "metadata": {},
   "outputs": [
    {
     "data": {
      "text/plain": [
       "40"
      ]
     },
     "execution_count": 9,
     "metadata": {},
     "output_type": "execute_result"
    }
   ],
   "source": [
    "del record_df\n",
    "gc.collect()"
   ]
  },
  {
   "cell_type": "markdown",
   "metadata": {},
   "source": [
    "***Warning: only run 1-2 of these charts at one time***"
   ]
  },
  {
   "cell_type": "code",
   "execution_count": 10,
   "metadata": {},
   "outputs": [],
   "source": [
    "# finesse % chart\n",
    "\n",
    "# alt.Chart(small_record_df[['time', 'percent_perf']], title='Finesse Percent vs. Final Time').mark_rect().encode(\n",
    "#     alt.X('time').bin(maxbins=341).axis(title='Final Time (seconds)').scale(reverse=True, domain=[8,358]),\n",
    "#     alt.Y('percent_perf').bin(maxbins=100).axis(title='Percent of Pieces Placed with Perfect Finesse', format='%').scale(domain=[0,1]),\n",
    "#     alt.Color('count():Q', title=\"Count\").scale(scheme=seq_scheme)\n",
    "# ).properties(\n",
    "#     height=800,\n",
    "#     width=800\n",
    "# ).configure_title(\n",
    "#     fontSize=fs_title\n",
    "# ).configure_axisX(\n",
    "#     labelFontSize=fs_tick,\n",
    "#     titleFontSize=fs_axis,\n",
    "#     labelSeparation=5,\n",
    "#     tickMinStep=5\n",
    "# ).configure_axisY(\n",
    "#     labelFontSize=fs_tick,\n",
    "#     titleFontSize=fs_axis,\n",
    "#     labelSeparation=10,\n",
    "#     tickMinStep=0.02\n",
    "# ).configure_legend(\n",
    "#     labelFontSize=fs_tick,\n",
    "#     titleFontSize=fs_axis,\n",
    "#     labelBaseline='bottom'\n",
    "# )"
   ]
  },
  {
   "cell_type": "code",
   "execution_count": 11,
   "metadata": {},
   "outputs": [],
   "source": [
    "# PPS chart\n",
    "\n",
    "# alt.Chart(small_record_df[['time', 'pps']], title='Pieces per Second vs. Final Time').mark_rect().encode(\n",
    "#     alt.X('time').bin(maxbins=341).axis(title='Final Time (seconds)').scale(reverse=True, domainMax=358, domainMin=8),\n",
    "#     alt.Y('pps').bin(maxbins=360).axis(title='Pieces Placed per Second'),\n",
    "#     alt.Color('count():Q', title=\"Count\").scale(scheme=seq_scheme)\n",
    "# ).properties(\n",
    "#     height=800,\n",
    "#     width=800\n",
    "# ).configure_title(\n",
    "#     fontSize=fs_title\n",
    "# ).configure_axisX(\n",
    "#     labelFontSize=fs_tick,\n",
    "#     titleFontSize=fs_axis,\n",
    "#     labelSeparation=5,\n",
    "#     tickMinStep=5\n",
    "# ).configure_axisY(\n",
    "#     labelFontSize=fs_tick,\n",
    "#     titleFontSize=fs_axis,\n",
    "#     labelSeparation=10,\n",
    "#     tickMinStep=0.25\n",
    "# ).configure_legend(\n",
    "#     labelFontSize=fs_tick,\n",
    "#     titleFontSize=fs_axis,\n",
    "#     labelBaseline='bottom'\n",
    "# )"
   ]
  },
  {
   "cell_type": "code",
   "execution_count": 12,
   "metadata": {},
   "outputs": [],
   "source": [
    "# KPS chart\n",
    "\n",
    "# alt.Chart(small_record_df, title='Keys per Second vs. Final Time').mark_rect().encode(\n",
    "#     alt.X('time').bin(maxbins=341).axis(title='Final Time (seconds)', tickMinStep=5).scale(reverse=True, domainMax=358, domainMin=8),\n",
    "#     alt.Y('kps').bin(maxbins=100).axis(title='Keys Pressed per Second').scale(domainMin=0),\n",
    "#     alt.Color('count():Q', title=\"Count\").scale(scheme=seq_scheme)\n",
    "# ).properties(\n",
    "#     height=800,\n",
    "#     width=800\n",
    "# ).configure_title(\n",
    "#     fontSize=fs_title\n",
    "# ).configure_axisX(\n",
    "#     labelFontSize=fs_tick,\n",
    "#     titleFontSize=fs_axis,\n",
    "#     labelSeparation=5,\n",
    "#     tickMinStep=5\n",
    "# ).configure_axisY(\n",
    "#     labelFontSize=fs_tick,\n",
    "#     titleFontSize=fs_axis,\n",
    "#     labelSeparation=10,\n",
    "#     tickMinStep=0.5\n",
    "# ).configure_legend(\n",
    "#     labelFontSize=fs_tick,\n",
    "#     titleFontSize=fs_axis,\n",
    "#     labelBaseline='bottom'\n",
    "# )"
   ]
  },
  {
   "cell_type": "code",
   "execution_count": 13,
   "metadata": {},
   "outputs": [],
   "source": [
    "# KPP chart\n",
    "\n",
    "# alt.Chart(small_record_df[['time', 'kpp']], title='Keys per Piece vs. Final Time').mark_rect(clip=True).encode(\n",
    "#     alt.X('time').bin(maxbins=341).axis(title='Final Time (seconds)', tickMinStep=5).scale(reverse=True, domainMax=358, domainMin=8),\n",
    "#     alt.Y('kpp').bin(maxbins=100).axis(title='Keys Pressed per Piece').scale(domainMin=2, domainMax=15),\n",
    "#     alt.Color('count():Q', title=\"Count\").scale(scheme=seq_scheme)\n",
    "# ).properties(\n",
    "#     height=800,\n",
    "#     width=800\n",
    "# ).configure_title(\n",
    "#     fontSize=fs_title\n",
    "# ).configure_axisX(\n",
    "#     labelFontSize=fs_tick,\n",
    "#     titleFontSize=fs_axis,\n",
    "#     labelSeparation=5,\n",
    "#     tickMinStep=5\n",
    "# ).configure_axisY(\n",
    "#     labelFontSize=fs_tick,\n",
    "#     titleFontSize=fs_axis,\n",
    "#     labelSeparation=10,\n",
    "#     tickMinStep=0.5\n",
    "# ).configure_legend(\n",
    "#     labelFontSize=fs_tick,\n",
    "#     titleFontSize=fs_axis,\n",
    "#     labelBaseline='bottom'\n",
    "# )"
   ]
  },
  {
   "cell_type": "code",
   "execution_count": 14,
   "metadata": {},
   "outputs": [],
   "source": [
    "# Quads chart\n",
    "\n",
    "# alt.Chart(small_record_df, title='Quads vs. Final Time').mark_rect().encode(\n",
    "#     alt.X('time').bin(maxbins=341).axis(title='Final Time (seconds)', tickMinStep=5).scale(reverse=True, domainMax=358, domainMin=8),\n",
    "#     alt.Y('quads').bin(maxbins=11).axis(title='Number of Quads'),\n",
    "#     alt.Color('count():Q', title=\"Count\").scale(scheme=seq_scheme)\n",
    "# ).properties(\n",
    "#     height=800,\n",
    "#     width=800\n",
    "# ).configure_title(\n",
    "#     fontSize=fs_title\n",
    "# ).configure_axisX(\n",
    "#     labelFontSize=fs_tick,\n",
    "#     titleFontSize=fs_axis,\n",
    "#     labelSeparation=5,\n",
    "#     tickMinStep=5\n",
    "# ).configure_axisY(\n",
    "#     labelFontSize=fs_tick,\n",
    "#     titleFontSize=fs_axis,\n",
    "#     labelSeparation=10,\n",
    "#     tickMinStep=0.25\n",
    "# ).configure_legend(\n",
    "#     labelFontSize=fs_tick,\n",
    "#     titleFontSize=fs_axis,\n",
    "#     labelBaseline='bottom'\n",
    "# )"
   ]
  },
  {
   "cell_type": "code",
   "execution_count": null,
   "metadata": {},
   "outputs": [],
   "source": [
    "# Doubles chart\n",
    "\n",
    "# alt.Chart(small_record_df, title='Doubles vs. Final Time').mark_rect().encode(\n",
    "#     alt.X('time').bin(maxbins=341).axis(title='Final Time (seconds)', tickMinStep=5).scale(reverse=True, domainMax=358, domainMin=8),\n",
    "#     alt.Y('doubles').bin(maxbins=21).axis(title='Number of Doubles'),\n",
    "#     alt.Color('count():Q', title=\"Count\").scale(scheme=seq_scheme)\n",
    "# ).properties(\n",
    "#     height=800,\n",
    "#     width=800\n",
    "# ).configure_title(\n",
    "#     fontSize=fs_title\n",
    "# ).configure_axisX(\n",
    "#     labelFontSize=fs_tick,\n",
    "#     titleFontSize=fs_axis,\n",
    "#     labelSeparation=5,\n",
    "#     tickMinStep=5\n",
    "# ).configure_axisY(\n",
    "#     labelFontSize=fs_tick,\n",
    "#     titleFontSize=fs_axis,\n",
    "#     labelSeparation=10,\n",
    "#     tickMinStep=0.5\n",
    "# ).configure_legend(\n",
    "#     labelFontSize=fs_tick,\n",
    "#     titleFontSize=fs_axis,\n",
    "#     labelBaseline='bottom'\n",
    "# )"
   ]
  },
  {
   "cell_type": "code",
   "execution_count": null,
   "metadata": {},
   "outputs": [],
   "source": []
  }
 ],
 "metadata": {
  "kernelspec": {
   "display_name": ".venv",
   "language": "python",
   "name": "python3"
  },
  "language_info": {
   "codemirror_mode": {
    "name": "ipython",
    "version": 3
   },
   "file_extension": ".py",
   "mimetype": "text/x-python",
   "name": "python",
   "nbconvert_exporter": "python",
   "pygments_lexer": "ipython3",
   "version": "3.12.3"
  }
 },
 "nbformat": 4,
 "nbformat_minor": 2
}
