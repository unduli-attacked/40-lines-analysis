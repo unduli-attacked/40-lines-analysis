{
 "cells": [
  {
   "cell_type": "code",
   "execution_count": null,
   "metadata": {},
   "outputs": [],
   "source": [
    "import pandas as pd\n",
    "import os\n",
    "import seaborn\n",
    "from datetime import datetime\n",
    "import time\n",
    "import math\n",
    "import matplotlib.pyplot as plt"
   ]
  },
  {
   "cell_type": "code",
   "execution_count": null,
   "metadata": {},
   "outputs": [],
   "source": [
    "pb_only = False # SET TO TRUE TO USE ONLY PERSONAL BEST RECORDS\n",
    "\n",
    "record_df = pd.DataFrame()\n",
    "if not pb_only:\n",
    "    # full record dataset\n",
    "    record_df = pd.read_csv(\"out/all_records_pt_1.csv\", index_col=[0])\n",
    "    record_df = pd.concat([record_df, pd.read_csv(\"out/all_records_pt_2.csv\", index_col=[0])], ignore_index=True)\n",
    "else:\n",
    "    # pb records only\n",
    "    record_df = pd.read_csv(\"out/all_pbs.csv\", index_col=[0])\n",
    "    record_df = record_df.reset_index(drop=True)\n",
    "\n",
    "# full user dataset\n",
    "user_df = pd.read_csv(\"out/all_user_info.csv\", index_col=[0])\n",
    "user_df = user_df.reset_index(drop=True)"
   ]
  },
  {
   "cell_type": "code",
   "execution_count": null,
   "metadata": {},
   "outputs": [],
   "source": [
    "# construct more attributes\n",
    "record_df[\"kps\"] = record_df[\"inputs\"] / record_df[\"final_time\"] # keys per second\n",
    "record_df[\"kpp\"] = record_df[\"inputs\"] / record_df[\"pieces_placed\"] # keys per piece\n",
    "record_df[\"percent_perf\"] = record_df[\"finesse_perf\"] / record_df[\"pieces_placed\"] # percent of pieces placed with perfect finesse"
   ]
  },
  {
   "cell_type": "code",
   "execution_count": null,
   "metadata": {},
   "outputs": [],
   "source": [
    "# calculate time since account creation (users)\n",
    "def calcTimePlayed(x):\n",
    "    if x and isinstance(x, str):\n",
    "        return time.time() - datetime.fromisoformat(x).timestamp()\n",
    "    else:\n",
    "        return math.nan\n",
    "    \n",
    "user_df[\"time_played\"] = user_df[\"created_date\"].apply(calcTimePlayed) # time since account creation"
   ]
  },
  {
   "cell_type": "code",
   "execution_count": null,
   "metadata": {},
   "outputs": [],
   "source": [
    "# drop the three records with over 5k finesse faults\n",
    "crazy_outliers = record_df.loc[record_df[\"finesse_faults\"] > 5000].index\n",
    "\n",
    "for crazy_outlier in crazy_outliers:\n",
    "    record_df = record_df.drop(crazy_outlier)"
   ]
  }
 ],
 "metadata": {
  "kernelspec": {
   "display_name": ".venv",
   "language": "python",
   "name": "python3"
  },
  "language_info": {
   "codemirror_mode": {
    "name": "ipython",
    "version": 3
   },
   "file_extension": ".py",
   "mimetype": "text/x-python",
   "name": "python",
   "nbconvert_exporter": "python",
   "pygments_lexer": "ipython3",
   "version": "3.12.3"
  }
 },
 "nbformat": 4,
 "nbformat_minor": 2
}
